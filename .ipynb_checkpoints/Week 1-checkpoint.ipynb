{
 "cells": [
  {
   "cell_type": "markdown",
   "metadata": {},
   "source": [
    "# Week 1"
   ]
  },
  {
   "cell_type": "code",
   "execution_count": 4,
   "metadata": {},
   "outputs": [
    {
     "name": "stdout",
     "output_type": "stream",
     "text": [
      "0.5\n",
      "3.0\n"
     ]
    }
   ],
   "source": [
    "import numpy as np\n",
    "\n",
    "def mean_squared_error(theta_0, theta_1, x, y):\n",
    "    '''The MSE with a 0.5 factor for easier diffrentiation'''\n",
    "    h = theta_0 + theta_1 * x\n",
    "    m = y.shape[0]\n",
    "    return (1/2) * (1/m) * np.sum((h - y)**2)\n",
    "\n",
    "# Number of A's first year\n",
    "x = np.array([3, 1, 0, 4])\n",
    "# Number of A's second year\n",
    "y = np.array([2, 2, 1, 3])\n",
    "\n",
    "# Q2: What is J(0,1)\n",
    "print(mean_squared_error(0, 1, x, y))\n",
    "\n",
    "# Q3\n",
    "h_2 = 0 + 1.5 * 2\n",
    "print(h_2)"
   ]
  }
 ],
 "metadata": {
  "kernelspec": {
   "display_name": "Python 3",
   "language": "python",
   "name": "python3"
  },
  "language_info": {
   "codemirror_mode": {
    "name": "ipython",
    "version": 3
   },
   "file_extension": ".py",
   "mimetype": "text/x-python",
   "name": "python",
   "nbconvert_exporter": "python",
   "pygments_lexer": "ipython3",
   "version": "3.7.1"
  }
 },
 "nbformat": 4,
 "nbformat_minor": 2
}
