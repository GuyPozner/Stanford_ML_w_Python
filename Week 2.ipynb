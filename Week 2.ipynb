{
 "cells": [
  {
   "cell_type": "markdown",
   "metadata": {},
   "source": [
    "# Week 2\n",
    "\n",
    "### Linear Regression with one variable"
   ]
  },
  {
   "cell_type": "code",
   "execution_count": null,
   "metadata": {},
   "outputs": [],
   "source": [
    "import numpy as np\n",
    "import pandas as pd"
   ]
  },
  {
   "cell_type": "code",
   "execution_count": null,
   "metadata": {},
   "outputs": [],
   "source": [
    "# Load the data\n",
    "df = pd.read_csv('Andrew-Ng-ML-Course-Assignments/machine-learning-ex1/ex1/ex1data1.txt', names = ['population', 'profit'])\n",
    "X = df['population'].values\n",
    "y = df['profit'].values\n",
    "m = df.shape[0]"
   ]
  },
  {
   "cell_type": "code",
   "execution_count": null,
   "metadata": {},
   "outputs": [],
   "source": [
    "%matplotlib inline\n",
    "\n",
    "# Plot the data\n",
    "df.plot(x = 'population', y = 'profit', kind = 'scatter')"
   ]
  },
  {
   "cell_type": "markdown",
   "metadata": {},
   "source": [
    "We're given the cost function in linear algebra form, so I'll find its partial derivative with respect to theta in order to complete the multivariate case as well.\n",
    "\n",
    "Given: $J(\\theta)=\\frac{1}{2m}(X\\theta-y)^T(X\\theta-y)$\n",
    "\n",
    "The transpose of the sum is the sum of the transpose =>\n",
    "$J(\\theta)=\\frac{1}{2m}[((X\\theta)^T-y^T)(X\\theta-y)]$\n",
    "\n",
    "Multiplication=>\n",
    "$J(\\theta)=\\frac{1}{2m}[(X\\theta)^TX\\theta-(X\\theta)^Ty-y^TX\\theta+y^Ty]$\n",
    "\n",
    "$X\\theta^Ty=y^TX\\theta$ => \n",
    "$J(\\theta)=\\frac{1}{2m}[(X\\theta)^TX\\theta-2(X\\theta)^Ty+y^Ty]$\n",
    "\n",
    "$(X\\theta)^T=\\theta^TX^T$ =>\n",
    "$J(\\theta)=\\frac{1}{2m}[\\theta^TX^TX\\theta-2\\theta^TX^Ty+y^Ty]$\n",
    "\n",
    "$\\dfrac{\\partial \\theta^TX^TX\\theta}{\\partial \\theta}=2X^TX\\theta$\n",
    "\n",
    "$\\dfrac{\\partial \\theta^TX^Ty}{\\partial \\theta}=X^Ty$\n",
    "\n",
    "$\\dfrac{\\partial J(\\theta)}{\\partial \\theta}=\\frac{1}{2m}[2X^TX\\theta-2X^Ty]$\n",
    "\n",
    "$\\dfrac{\\partial J(\\theta)}{\\partial \\theta}=\\frac{1}{m}[X^TX\\theta-X^Ty]$\n",
    "\n",
    "Solving for zero will give us the normal equation, which is the analytic solution for multivariate linear regression."
   ]
  },
  {
   "cell_type": "code",
   "execution_count": null,
   "metadata": {},
   "outputs": [],
   "source": [
    "# Gradient Descent\n",
    "def compute_cost(X, y, theta):\n",
    "    '''Computes the 0.5 * mean squared error'''\n",
    "    m = y.shape[0]\n",
    "    theta_t = theta.transpose()\n",
    "    y_t = y.transpose()\n",
    "    \n",
    "    h = np.dot(X, theta)\n",
    "    \n",
    "    # Sum of squared errors\n",
    "    sse = np.dot((h_t - y_t), (h - y))\n",
    "    return 0.5 * (1/m) * sse\n",
    "\n",
    "def gradient_descent(X, y, theta, alpha, iters):\n",
    "    '''Minimizes theta using the gradient'''\n",
    "    m = y.shape[0]\n",
    "    J_history = []\n",
    "    for i in range(iters):\n",
    "        delta = (1/m) * (np.dot(np.dot(X.transpose(), X), theta) - (np.dot(X.transpose(), y)))\n",
    "        theta = theta - alpha*delta\n",
    "        \n",
    "        J_history.append(compute_cost(X, y, theta))\n",
    "    return [theta, J_history]\n",
    "\n",
    "# Add a column of ones to X\n",
    "X = np.vstack((np.ones(m), X)).transpose()\n",
    "theta = np.zeros(2)\n",
    "\n",
    "iterations = 1500\n",
    "alpha = 0.01\n",
    "\n",
    "compute_cost(X, y, theta)\n",
    "theta, J_history = gradient_descent(X, y, theta, alpha, iterations)"
   ]
  },
  {
   "cell_type": "code",
   "execution_count": null,
   "metadata": {},
   "outputs": [],
   "source": [
    "# Answers\n",
    "predict1 = np.dot(np.array([1, 3.5]), theta)\n",
    "predict2 = np.dot(np.array([1, 7]), theta)"
   ]
  },
  {
   "cell_type": "code",
   "execution_count": null,
   "metadata": {},
   "outputs": [],
   "source": [
    "# Plot the line over the data\n",
    "import matplotlib.pyplot as plt\n",
    "\n",
    "ax = df.plot(x = 'population', y = 'profit', kind = 'scatter')\n",
    "\n",
    "# Compute points for drawing the line\n",
    "x_min, x_max = ax.get_xlim()\n",
    "x_0 = x_min - 1\n",
    "x_1 = x_max + 1\n",
    "y_0 = np.dot(np.array([1, x_0]), theta)\n",
    "y_1 = np.dot(np.array([1, x_1]), theta)\n",
    "\n",
    "ax.plot([x_0, x_1], [y_0, y_1], c='r')"
   ]
  },
  {
   "cell_type": "markdown",
   "metadata": {},
   "source": [
    "### Multivariate linear regression"
   ]
  },
  {
   "cell_type": "code",
   "execution_count": null,
   "metadata": {},
   "outputs": [],
   "source": [
    "# Loading the second dataset\n",
    "df2 = pd.read_csv('Andrew-Ng-ML-Course-Assignments/machine-learning-ex1/ex1/ex1data2.txt', names = ['size','#_of_bedrooms','price'])\n",
    "m2 = df2.shape[0]"
   ]
  },
  {
   "cell_type": "code",
   "execution_count": null,
   "metadata": {},
   "outputs": [],
   "source": [
    "def normalize_vector(v):\n",
    "    return (v - np.mean(v)) / np.std(v)\n",
    "\n",
    "# Feature Scaling\n",
    "df2['size_scaled'] = normalize_vector(df2['size'])\n",
    "df2['#_of_bedrooms_scaled'] = normalize_vector(df2['#_of_bedrooms'])\n",
    "\n",
    "# Define X,y\n",
    "X2 = df2[['size_scaled', '#_of_bedrooms_scaled']].values\n",
    "y2 = df2['price'].values\n",
    "\n",
    "# Add A vector of ones to X\n",
    "X2 = np.hstack([np.ones((m2, 1)), X2])\n",
    "\n",
    "n_features2 = X2.shape[1]\n",
    "theta2 = np.zeros(n_features2)\n",
    "\n",
    "iterations2 = 1500\n",
    "alpha2 = 0.01\n",
    "\n",
    "theta2, J_history2 = gradient_descent(X2, y2, theta2, alpha2, iterations2)"
   ]
  },
  {
   "cell_type": "code",
   "execution_count": null,
   "metadata": {},
   "outputs": [],
   "source": [
    "plt.plot(J_history)"
   ]
  }
 ],
 "metadata": {
  "kernelspec": {
   "display_name": "Python 3",
   "language": "python",
   "name": "python3"
  },
  "language_info": {
   "codemirror_mode": {
    "name": "ipython",
    "version": 3
   },
   "file_extension": ".py",
   "mimetype": "text/x-python",
   "name": "python",
   "nbconvert_exporter": "python",
   "pygments_lexer": "ipython3",
   "version": "3.7.1"
  }
 },
 "nbformat": 4,
 "nbformat_minor": 2
}
